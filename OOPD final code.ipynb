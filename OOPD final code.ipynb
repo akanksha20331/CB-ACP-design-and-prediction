{
 "cells": [
  {
   "cell_type": "code",
   "execution_count": 1,
   "id": "6213a689",
   "metadata": {},
   "outputs": [],
   "source": [
    "# import libraries\n",
    "from tensorflow import keras\n",
    "import sklearn\n",
    "import mysql.connector\n",
    "from mysql.connector import Error\n",
    "import pandas as pd\n",
    "import numpy as np\n",
    "import matplotlib.pyplot as plt\n",
    "from sklearn.model_selection import train_test_split \n",
    "from sklearn.metrics import confusion_matrix\n",
    "import seaborn as sns\n",
    "from sklearn.metrics import roc_curve\n",
    "from sklearn.metrics import auc"
   ]
  },
  {
   "cell_type": "code",
   "execution_count": 2,
   "id": "4fd890c8",
   "metadata": {},
   "outputs": [],
   "source": [
    "import tensorflow as tf\n",
    "import os\n",
    "from sklearn.preprocessing import StandardScaler\n",
    "from sklearn.feature_selection import VarianceThreshold\n",
    "from sklearn.tree import DecisionTreeClassifier\n",
    "from sklearn.ensemble import RandomForestClassifier\n",
    "from sklearn.metrics import roc_auc_score\n",
    "from sklearn.metrics import roc_curve\n",
    "from sklearn.model_selection import cross_val_score\n",
    "from sklearn.metrics import accuracy_score,f1_score"
   ]
  },
  {
   "cell_type": "markdown",
   "id": "4c658d55",
   "metadata": {},
   "source": [
    "# Database Connection"
   ]
  },
  {
   "cell_type": "code",
   "execution_count": 3,
   "id": "2560424b",
   "metadata": {},
   "outputs": [],
   "source": [
    "class DB_Conn:\n",
    "    def __init__(self):\n",
    "        self.connection = None\n",
    "        self.__host_name = \"localhost\"\n",
    "        self.__username = \"root\"\n",
    "        self.__pw=\"Root@123\"  # SQL Terminal Password ####  ### Class Attributes\n",
    "        self.db=\"ACP_detection\"  # Databse Name #####\n",
    "    \n",
    "    def set_credentials(self, username, password, database):\n",
    "        self.username = username\n",
    "        self.pw = password\n",
    "        self.db = database\n",
    "        \n",
    "    def create_server_connection(self):\n",
    "        try:\n",
    "            connection= mysql.connector.connect(\n",
    "                host=self.__host_name,\n",
    "                user=self.__username,\n",
    "                password=self.__pw\n",
    "            )\n",
    "            print(\"Server connection successful\")\n",
    "        except Error as err:\n",
    "            print(f\"Error: '{err}'\")\n",
    "        return connection\n",
    "    \n",
    "    def create_db_connection(self):\n",
    "        connection= None\n",
    "        try:\n",
    "            connection= mysql.connector.connect(\n",
    "                host=self.__host_name,\n",
    "                user=self.__username,\n",
    "                password=self.__pw,\n",
    "                database= self.db)\n",
    "            print(\"Database connection successful\")\n",
    "        except Error as err:\n",
    "            print(f\"Error: '{err}'\" )\n",
    "        return connection"
   ]
  },
  {
   "cell_type": "markdown",
   "id": "2b5a5948",
   "metadata": {},
   "source": [
    "# Database Creation using Query"
   ]
  },
  {
   "cell_type": "code",
   "execution_count": 4,
   "id": "2e4cfa03",
   "metadata": {},
   "outputs": [],
   "source": [
    "class DB_Manager:\n",
    "    def __init__(self):\n",
    "        self.db_create_query= \"Create database ACP_detection\" ### Database creation Query\n",
    "    \n",
    "    def get_db_name(self, db_name):\n",
    "        self.db_create_query = \"Create database \" + db_name\n",
    "    \n",
    "    def create_database(self, connection):\n",
    "        cursor= connection.cursor()\n",
    "        try:\n",
    "            cursor.execute(self.db_create_query)\n",
    "            print(\"Database created successfully\")\n",
    "        except Error as err:\n",
    "            print(f\"Error: '{err}'\" )\n",
    "    \n",
    "    def execute_query(self,connection,query):\n",
    "        cursor= connection.cursor()\n",
    "        try:\n",
    "            cursor.execute(query)\n",
    "            result = cursor.fetchall()\n",
    "            connection.commit()\n",
    "            print(\"Query was successful\")\n",
    "        except Error as err:\n",
    "            print(f\"Error: '{err}'\" )\n",
    "        return result\n",
    "    \n",
    "    def load_data(self, connection, data):\n",
    "        cur= connection.cursor()\n",
    "        s= \"INSERT INTO samples (Peptide_sequence, label) VALUES (%s,%s)\"\n",
    "        cur.executemany(s, data)\n",
    "        connection.commit()\n",
    "        print(\"Data Loaded Successfully\")"
   ]
  },
  {
   "cell_type": "markdown",
   "id": "5557d556",
   "metadata": {},
   "source": [
    "# Accessing Database using Objects"
   ]
  },
  {
   "cell_type": "code",
   "execution_count": 5,
   "id": "233fcd74",
   "metadata": {},
   "outputs": [],
   "source": [
    "DBC = DB_Conn()"
   ]
  },
  {
   "cell_type": "code",
   "execution_count": 6,
   "id": "e6e2e385",
   "metadata": {
    "scrolled": true
   },
   "outputs": [
    {
     "name": "stdout",
     "output_type": "stream",
     "text": [
      "Server connection successful\n"
     ]
    }
   ],
   "source": [
    "server_connection = DBC.create_server_connection()"
   ]
  },
  {
   "cell_type": "code",
   "execution_count": 7,
   "id": "57484d8e",
   "metadata": {},
   "outputs": [
    {
     "name": "stdout",
     "output_type": "stream",
     "text": [
      "Database created successfully\n"
     ]
    }
   ],
   "source": [
    "DBM = DB_Manager()\n",
    "DBM.create_database(server_connection)"
   ]
  },
  {
   "cell_type": "code",
   "execution_count": 8,
   "id": "70bcf7c6",
   "metadata": {},
   "outputs": [
    {
     "name": "stdout",
     "output_type": "stream",
     "text": [
      "Database connection successful\n"
     ]
    }
   ],
   "source": [
    "db_connection = DBC.create_db_connection()"
   ]
  },
  {
   "cell_type": "code",
   "execution_count": 9,
   "id": "7830cf27",
   "metadata": {},
   "outputs": [
    {
     "name": "stdout",
     "output_type": "stream",
     "text": [
      "Query was successful\n"
     ]
    },
    {
     "data": {
      "text/plain": [
       "[]"
      ]
     },
     "execution_count": 9,
     "metadata": {},
     "output_type": "execute_result"
    }
   ],
   "source": [
    "# Creating Table in the database to store Sample records.\n",
    "create_table= \"\"\"\n",
    "create table samples(\n",
    "Peptide_sequence varchar(200),\n",
    "label int);\n",
    "\"\"\"\n",
    "#connect to the database\n",
    "DBM.execute_query(db_connection,create_table)"
   ]
  },
  {
   "cell_type": "markdown",
   "id": "d7b2dc08",
   "metadata": {},
   "source": [
    "# Reading Fasta files"
   ]
  },
  {
   "cell_type": "code",
   "execution_count": 10,
   "id": "82937f0f",
   "metadata": {},
   "outputs": [],
   "source": [
    "# Reading the input Fasta File\n",
    "\n",
    "#Negative samples\n",
    "with open(r'C:\\Users\\mailt\\Desktop\\fasta\\fasta\\data\\negative\\balanced.fasta','r') as a:\n",
    "    x = a.read()\n",
    "    \n",
    "#Positive Samples\n",
    "with open(r'C:\\Users\\mailt\\Desktop\\fasta\\fasta\\data\\positive\\balanced.fasta','r') as e:\n",
    "    u= e.read()\n"
   ]
  },
  {
   "cell_type": "markdown",
   "id": "49d738d2",
   "metadata": {},
   "source": [
    "# Data Pre processing "
   ]
  },
  {
   "cell_type": "code",
   "execution_count": 11,
   "id": "71128fd2",
   "metadata": {},
   "outputs": [],
   "source": [
    "# Data Pre processing \n",
    "\n",
    "class Data_Preprocessor:\n",
    "    def __init__(self):\n",
    "        pass\n",
    "    \n",
    "    def preprocess(self, data, cls): \n",
    "        s= data.split(\"\\n\")\n",
    "        n= len(s)\n",
    "\n",
    "        arr=[]\n",
    "        while n>0:\n",
    "            arr.append(s[n-2])\n",
    "            n= n-2\n",
    "        \n",
    "        lst=[]\n",
    "        for i in range(len(arr)-1):\n",
    "            lst1=[]\n",
    "            a=()   \n",
    "            lst1.append(arr[i])\n",
    "            lst1.append(cls)\n",
    "            a= tuple(lst1)\n",
    "            lst.append(a)\n",
    "\n",
    "        return lst"
   ]
  },
  {
   "cell_type": "code",
   "execution_count": 12,
   "id": "c5cdece4",
   "metadata": {},
   "outputs": [],
   "source": [
    "preprocessor = Data_Preprocessor()\n",
    "lst = preprocessor.preprocess(x, 0)\n",
    "lst1 = preprocessor.preprocess(u, 1)\n"
   ]
  },
  {
   "cell_type": "markdown",
   "id": "5eb83670",
   "metadata": {},
   "source": [
    "# Loading Samples in SQL Table"
   ]
  },
  {
   "cell_type": "code",
   "execution_count": 13,
   "id": "827ddef0",
   "metadata": {},
   "outputs": [
    {
     "name": "stdout",
     "output_type": "stream",
     "text": [
      "Data Loaded Successfully\n",
      "Data Loaded Successfully\n"
     ]
    }
   ],
   "source": [
    "DBM.load_data(db_connection, lst)         ## Negative Samples\n",
    "DBM.load_data(db_connection, lst1)        ##Positive Samples\n"
   ]
  },
  {
   "cell_type": "code",
   "execution_count": 14,
   "id": "05bd1614",
   "metadata": {},
   "outputs": [
    {
     "name": "stdout",
     "output_type": "stream",
     "text": [
      "Query was successful\n"
     ]
    }
   ],
   "source": [
    "# calling all the samples from database.\n",
    "q1=\"\"\"\n",
    "select * from samples;\n",
    "\"\"\"\n",
    "results=DBM.execute_query(db_connection, q1)"
   ]
  },
  {
   "cell_type": "code",
   "execution_count": 15,
   "id": "43042b6c",
   "metadata": {},
   "outputs": [
    {
     "data": {
      "text/html": [
       "<div>\n",
       "<style scoped>\n",
       "    .dataframe tbody tr th:only-of-type {\n",
       "        vertical-align: middle;\n",
       "    }\n",
       "\n",
       "    .dataframe tbody tr th {\n",
       "        vertical-align: top;\n",
       "    }\n",
       "\n",
       "    .dataframe thead th {\n",
       "        text-align: right;\n",
       "    }\n",
       "</style>\n",
       "<table border=\"1\" class=\"dataframe\">\n",
       "  <thead>\n",
       "    <tr style=\"text-align: right;\">\n",
       "      <th></th>\n",
       "      <th>Peptide_sequence</th>\n",
       "      <th>label</th>\n",
       "    </tr>\n",
       "  </thead>\n",
       "  <tbody>\n",
       "    <tr>\n",
       "      <th>0</th>\n",
       "      <td>YSPGRTARADLRKASSTFSPPSPYSPPNSRPLSSPLDELASLFNSGR</td>\n",
       "      <td>0</td>\n",
       "    </tr>\n",
       "    <tr>\n",
       "      <th>1</th>\n",
       "      <td>YSPETNYMLMLLCVGV</td>\n",
       "      <td>0</td>\n",
       "    </tr>\n",
       "    <tr>\n",
       "      <th>2</th>\n",
       "      <td>YSMEGVNHAAAVSGEVKGHYLNATAATMEDMYERAEFAK</td>\n",
       "      <td>0</td>\n",
       "    </tr>\n",
       "    <tr>\n",
       "      <th>3</th>\n",
       "      <td>YSGDDAYATDAILNS</td>\n",
       "      <td>0</td>\n",
       "    </tr>\n",
       "    <tr>\n",
       "      <th>4</th>\n",
       "      <td>YSDEQVE</td>\n",
       "      <td>0</td>\n",
       "    </tr>\n",
       "    <tr>\n",
       "      <th>...</th>\n",
       "      <td>...</td>\n",
       "      <td>...</td>\n",
       "    </tr>\n",
       "    <tr>\n",
       "      <th>445</th>\n",
       "      <td>AIGSILGALAKGLPTLISWIKNR</td>\n",
       "      <td>1</td>\n",
       "    </tr>\n",
       "    <tr>\n",
       "      <th>446</th>\n",
       "      <td>ACYCRIPACIAGERRYGTCIYQGRLWAFCC</td>\n",
       "      <td>1</td>\n",
       "    </tr>\n",
       "    <tr>\n",
       "      <th>447</th>\n",
       "      <td>ACSAG</td>\n",
       "      <td>1</td>\n",
       "    </tr>\n",
       "    <tr>\n",
       "      <th>448</th>\n",
       "      <td>AAPTATVTPSSGLSDGTVVKVAGAGLQAGTAYDVGQCAWVDTGVLA...</td>\n",
       "      <td>1</td>\n",
       "    </tr>\n",
       "    <tr>\n",
       "      <th>449</th>\n",
       "      <td>AACARFIDDFCDTLTPNIYRPRDNGQRCYAVNGHRCDFTVFNTNNG...</td>\n",
       "      <td>1</td>\n",
       "    </tr>\n",
       "  </tbody>\n",
       "</table>\n",
       "<p>450 rows × 2 columns</p>\n",
       "</div>"
      ],
      "text/plain": [
       "                                      Peptide_sequence  label\n",
       "0      YSPGRTARADLRKASSTFSPPSPYSPPNSRPLSSPLDELASLFNSGR      0\n",
       "1                                     YSPETNYMLMLLCVGV      0\n",
       "2              YSMEGVNHAAAVSGEVKGHYLNATAATMEDMYERAEFAK      0\n",
       "3                                      YSGDDAYATDAILNS      0\n",
       "4                                              YSDEQVE      0\n",
       "..                                                 ...    ...\n",
       "445                            AIGSILGALAKGLPTLISWIKNR      1\n",
       "446                     ACYCRIPACIAGERRYGTCIYQGRLWAFCC      1\n",
       "447                                              ACSAG      1\n",
       "448  AAPTATVTPSSGLSDGTVVKVAGAGLQAGTAYDVGQCAWVDTGVLA...      1\n",
       "449  AACARFIDDFCDTLTPNIYRPRDNGQRCYAVNGHRCDFTVFNTNNG...      1\n",
       "\n",
       "[450 rows x 2 columns]"
      ]
     },
     "metadata": {},
     "output_type": "display_data"
    }
   ],
   "source": [
    "# Converting the data to a dataframe.\n",
    "\n",
    "#create data frame \n",
    "\n",
    "df=[]\n",
    "\n",
    "for res in results:\n",
    "    result= list(res)\n",
    "    df.append(res)\n",
    "    \n",
    "columns= [\"Peptide_sequence\", \"label\"]\n",
    "df= pd.DataFrame(df,columns=columns )\n",
    "\n",
    "display(df)"
   ]
  },
  {
   "cell_type": "code",
   "execution_count": 17,
   "id": "9d83874a",
   "metadata": {},
   "outputs": [],
   "source": [
    "# Loading the p-feature analysis file\n",
    "\n",
    "d2=pd.read_csv(r\"C:\\Users\\mailt\\Desktop\\OOPD project\\only_dipeptid (1).csv\")\n",
    "d2.head()\n",
    "pf = d2.reindex(np.random.permutation(d2.index))\n"
   ]
  },
  {
   "cell_type": "code",
   "execution_count": 18,
   "id": "e561cc47",
   "metadata": {},
   "outputs": [
    {
     "data": {
      "text/html": [
       "<div>\n",
       "<style scoped>\n",
       "    .dataframe tbody tr th:only-of-type {\n",
       "        vertical-align: middle;\n",
       "    }\n",
       "\n",
       "    .dataframe tbody tr th {\n",
       "        vertical-align: top;\n",
       "    }\n",
       "\n",
       "    .dataframe thead th {\n",
       "        text-align: right;\n",
       "    }\n",
       "</style>\n",
       "<table border=\"1\" class=\"dataframe\">\n",
       "  <thead>\n",
       "    <tr style=\"text-align: right;\">\n",
       "      <th></th>\n",
       "      <th>ID</th>\n",
       "      <th>DPC1_AA</th>\n",
       "      <th>DPC1_AC</th>\n",
       "      <th>DPC1_AD</th>\n",
       "      <th>DPC1_AE</th>\n",
       "      <th>DPC1_AF</th>\n",
       "      <th>DPC1_AG</th>\n",
       "      <th>DPC1_AH</th>\n",
       "      <th>DPC1_AI</th>\n",
       "      <th>DPC1_AK</th>\n",
       "      <th>...</th>\n",
       "      <th>DPC1_YN</th>\n",
       "      <th>DPC1_YP</th>\n",
       "      <th>DPC1_YQ</th>\n",
       "      <th>DPC1_YR</th>\n",
       "      <th>DPC1_YS</th>\n",
       "      <th>DPC1_YT</th>\n",
       "      <th>DPC1_YV</th>\n",
       "      <th>DPC1_YW</th>\n",
       "      <th>DPC1_YY</th>\n",
       "      <th>Label</th>\n",
       "    </tr>\n",
       "  </thead>\n",
       "  <tbody>\n",
       "    <tr>\n",
       "      <th>0</th>\n",
       "      <td>1.481869</td>\n",
       "      <td>-0.370771</td>\n",
       "      <td>-0.147173</td>\n",
       "      <td>-0.211785</td>\n",
       "      <td>-0.343457</td>\n",
       "      <td>-0.211008</td>\n",
       "      <td>-0.329097</td>\n",
       "      <td>-0.180736</td>\n",
       "      <td>-0.375497</td>\n",
       "      <td>-0.309228</td>\n",
       "      <td>...</td>\n",
       "      <td>-0.15927</td>\n",
       "      <td>-0.177785</td>\n",
       "      <td>-0.150662</td>\n",
       "      <td>-0.189071</td>\n",
       "      <td>-0.173675</td>\n",
       "      <td>-0.176058</td>\n",
       "      <td>-0.155311</td>\n",
       "      <td>-0.130292</td>\n",
       "      <td>-0.075198</td>\n",
       "      <td>-1.0</td>\n",
       "    </tr>\n",
       "    <tr>\n",
       "      <th>1</th>\n",
       "      <td>0.765953</td>\n",
       "      <td>-0.370771</td>\n",
       "      <td>-0.147173</td>\n",
       "      <td>-0.211785</td>\n",
       "      <td>-0.343457</td>\n",
       "      <td>-0.211008</td>\n",
       "      <td>-0.329097</td>\n",
       "      <td>-0.180736</td>\n",
       "      <td>-0.375497</td>\n",
       "      <td>-0.309228</td>\n",
       "      <td>...</td>\n",
       "      <td>-0.15927</td>\n",
       "      <td>-0.177785</td>\n",
       "      <td>-0.150662</td>\n",
       "      <td>-0.189071</td>\n",
       "      <td>-0.173675</td>\n",
       "      <td>7.614837</td>\n",
       "      <td>-0.155311</td>\n",
       "      <td>-0.130292</td>\n",
       "      <td>-0.075198</td>\n",
       "      <td>-1.0</td>\n",
       "    </tr>\n",
       "    <tr>\n",
       "      <th>2</th>\n",
       "      <td>1.197043</td>\n",
       "      <td>-0.370771</td>\n",
       "      <td>-0.147173</td>\n",
       "      <td>-0.211785</td>\n",
       "      <td>-0.343457</td>\n",
       "      <td>-0.211008</td>\n",
       "      <td>-0.329097</td>\n",
       "      <td>-0.180736</td>\n",
       "      <td>-0.375497</td>\n",
       "      <td>-0.309228</td>\n",
       "      <td>...</td>\n",
       "      <td>-0.15927</td>\n",
       "      <td>-0.177785</td>\n",
       "      <td>-0.150662</td>\n",
       "      <td>-0.189071</td>\n",
       "      <td>-0.173675</td>\n",
       "      <td>-0.176058</td>\n",
       "      <td>-0.155311</td>\n",
       "      <td>-0.130292</td>\n",
       "      <td>-0.075198</td>\n",
       "      <td>-1.0</td>\n",
       "    </tr>\n",
       "    <tr>\n",
       "      <th>3</th>\n",
       "      <td>0.796745</td>\n",
       "      <td>1.191804</td>\n",
       "      <td>-0.147173</td>\n",
       "      <td>-0.211785</td>\n",
       "      <td>-0.343457</td>\n",
       "      <td>-0.211008</td>\n",
       "      <td>-0.329097</td>\n",
       "      <td>-0.180736</td>\n",
       "      <td>-0.375497</td>\n",
       "      <td>-0.309228</td>\n",
       "      <td>...</td>\n",
       "      <td>-0.15927</td>\n",
       "      <td>-0.177785</td>\n",
       "      <td>-0.150662</td>\n",
       "      <td>-0.189071</td>\n",
       "      <td>-0.173675</td>\n",
       "      <td>-0.176058</td>\n",
       "      <td>-0.155311</td>\n",
       "      <td>-0.130292</td>\n",
       "      <td>-0.075198</td>\n",
       "      <td>-1.0</td>\n",
       "    </tr>\n",
       "    <tr>\n",
       "      <th>4</th>\n",
       "      <td>-1.150854</td>\n",
       "      <td>-0.370771</td>\n",
       "      <td>-0.147173</td>\n",
       "      <td>-0.211785</td>\n",
       "      <td>-0.343457</td>\n",
       "      <td>-0.211008</td>\n",
       "      <td>-0.329097</td>\n",
       "      <td>-0.180736</td>\n",
       "      <td>-0.375497</td>\n",
       "      <td>-0.309228</td>\n",
       "      <td>...</td>\n",
       "      <td>-0.15927</td>\n",
       "      <td>-0.177785</td>\n",
       "      <td>-0.150662</td>\n",
       "      <td>-0.189071</td>\n",
       "      <td>-0.173675</td>\n",
       "      <td>-0.176058</td>\n",
       "      <td>-0.155311</td>\n",
       "      <td>-0.130292</td>\n",
       "      <td>-0.075198</td>\n",
       "      <td>1.0</td>\n",
       "    </tr>\n",
       "  </tbody>\n",
       "</table>\n",
       "<p>5 rows × 402 columns</p>\n",
       "</div>"
      ],
      "text/plain": [
       "         ID   DPC1_AA   DPC1_AC   DPC1_AD   DPC1_AE   DPC1_AF   DPC1_AG  \\\n",
       "0  1.481869 -0.370771 -0.147173 -0.211785 -0.343457 -0.211008 -0.329097   \n",
       "1  0.765953 -0.370771 -0.147173 -0.211785 -0.343457 -0.211008 -0.329097   \n",
       "2  1.197043 -0.370771 -0.147173 -0.211785 -0.343457 -0.211008 -0.329097   \n",
       "3  0.796745  1.191804 -0.147173 -0.211785 -0.343457 -0.211008 -0.329097   \n",
       "4 -1.150854 -0.370771 -0.147173 -0.211785 -0.343457 -0.211008 -0.329097   \n",
       "\n",
       "    DPC1_AH   DPC1_AI   DPC1_AK  ...  DPC1_YN   DPC1_YP   DPC1_YQ   DPC1_YR  \\\n",
       "0 -0.180736 -0.375497 -0.309228  ... -0.15927 -0.177785 -0.150662 -0.189071   \n",
       "1 -0.180736 -0.375497 -0.309228  ... -0.15927 -0.177785 -0.150662 -0.189071   \n",
       "2 -0.180736 -0.375497 -0.309228  ... -0.15927 -0.177785 -0.150662 -0.189071   \n",
       "3 -0.180736 -0.375497 -0.309228  ... -0.15927 -0.177785 -0.150662 -0.189071   \n",
       "4 -0.180736 -0.375497 -0.309228  ... -0.15927 -0.177785 -0.150662 -0.189071   \n",
       "\n",
       "    DPC1_YS   DPC1_YT   DPC1_YV   DPC1_YW   DPC1_YY  Label  \n",
       "0 -0.173675 -0.176058 -0.155311 -0.130292 -0.075198   -1.0  \n",
       "1 -0.173675  7.614837 -0.155311 -0.130292 -0.075198   -1.0  \n",
       "2 -0.173675 -0.176058 -0.155311 -0.130292 -0.075198   -1.0  \n",
       "3 -0.173675 -0.176058 -0.155311 -0.130292 -0.075198   -1.0  \n",
       "4 -0.173675 -0.176058 -0.155311 -0.130292 -0.075198    1.0  \n",
       "\n",
       "[5 rows x 402 columns]"
      ]
     },
     "execution_count": 18,
     "metadata": {},
     "output_type": "execute_result"
    }
   ],
   "source": [
    "#Preprocessing the file using Standard Scaler\n",
    "sc=StandardScaler()\n",
    "c2=pd.DataFrame(sc.fit_transform(pf))\n",
    "c2.columns=pf.columns\n",
    "c2.head()\n"
   ]
  },
  {
   "cell_type": "code",
   "execution_count": 19,
   "id": "f0dabff0",
   "metadata": {},
   "outputs": [],
   "source": [
    "Y1=c2.Label"
   ]
  },
  {
   "cell_type": "markdown",
   "id": "b8d90ed0",
   "metadata": {},
   "source": [
    "# Feature Selection using Variance Threshold"
   ]
  },
  {
   "cell_type": "code",
   "execution_count": 20,
   "id": "dbcd8a74",
   "metadata": {},
   "outputs": [
    {
     "data": {
      "text/html": [
       "<div>\n",
       "<style scoped>\n",
       "    .dataframe tbody tr th:only-of-type {\n",
       "        vertical-align: middle;\n",
       "    }\n",
       "\n",
       "    .dataframe tbody tr th {\n",
       "        vertical-align: top;\n",
       "    }\n",
       "\n",
       "    .dataframe thead th {\n",
       "        text-align: right;\n",
       "    }\n",
       "</style>\n",
       "<table border=\"1\" class=\"dataframe\">\n",
       "  <thead>\n",
       "    <tr style=\"text-align: right;\">\n",
       "      <th></th>\n",
       "      <th>DPC1_AG</th>\n",
       "      <th>DPC1_AK</th>\n",
       "      <th>DPC1_AM</th>\n",
       "      <th>DPC1_AN</th>\n",
       "      <th>DPC1_AR</th>\n",
       "      <th>DPC1_AW</th>\n",
       "      <th>DPC1_CC</th>\n",
       "      <th>DPC1_CD</th>\n",
       "      <th>DPC1_CI</th>\n",
       "      <th>DPC1_CN</th>\n",
       "      <th>...</th>\n",
       "      <th>DPC1_WY</th>\n",
       "      <th>DPC1_YF</th>\n",
       "      <th>DPC1_YG</th>\n",
       "      <th>DPC1_YH</th>\n",
       "      <th>DPC1_YM</th>\n",
       "      <th>DPC1_YN</th>\n",
       "      <th>DPC1_YP</th>\n",
       "      <th>DPC1_YQ</th>\n",
       "      <th>DPC1_YS</th>\n",
       "      <th>DPC1_YV</th>\n",
       "    </tr>\n",
       "  </thead>\n",
       "  <tbody>\n",
       "    <tr>\n",
       "      <th>0</th>\n",
       "      <td>-0.329097</td>\n",
       "      <td>-0.309228</td>\n",
       "      <td>-0.145043</td>\n",
       "      <td>-0.245414</td>\n",
       "      <td>-0.234633</td>\n",
       "      <td>-0.134341</td>\n",
       "      <td>-0.169572</td>\n",
       "      <td>-0.142779</td>\n",
       "      <td>-0.205505</td>\n",
       "      <td>-0.127356</td>\n",
       "      <td>...</td>\n",
       "      <td>-0.081752</td>\n",
       "      <td>-0.140551</td>\n",
       "      <td>-0.184672</td>\n",
       "      <td>-0.047193</td>\n",
       "      <td>-0.085658</td>\n",
       "      <td>-0.15927</td>\n",
       "      <td>-0.177785</td>\n",
       "      <td>-0.150662</td>\n",
       "      <td>-0.173675</td>\n",
       "      <td>-0.155311</td>\n",
       "    </tr>\n",
       "    <tr>\n",
       "      <th>1</th>\n",
       "      <td>-0.329097</td>\n",
       "      <td>-0.309228</td>\n",
       "      <td>-0.145043</td>\n",
       "      <td>-0.245414</td>\n",
       "      <td>-0.234633</td>\n",
       "      <td>-0.134341</td>\n",
       "      <td>-0.169572</td>\n",
       "      <td>-0.142779</td>\n",
       "      <td>-0.205505</td>\n",
       "      <td>-0.127356</td>\n",
       "      <td>...</td>\n",
       "      <td>-0.081752</td>\n",
       "      <td>5.813713</td>\n",
       "      <td>-0.184672</td>\n",
       "      <td>-0.047193</td>\n",
       "      <td>-0.085658</td>\n",
       "      <td>-0.15927</td>\n",
       "      <td>-0.177785</td>\n",
       "      <td>-0.150662</td>\n",
       "      <td>-0.173675</td>\n",
       "      <td>-0.155311</td>\n",
       "    </tr>\n",
       "    <tr>\n",
       "      <th>2</th>\n",
       "      <td>-0.329097</td>\n",
       "      <td>-0.309228</td>\n",
       "      <td>-0.145043</td>\n",
       "      <td>-0.245414</td>\n",
       "      <td>-0.234633</td>\n",
       "      <td>-0.134341</td>\n",
       "      <td>-0.169572</td>\n",
       "      <td>-0.142779</td>\n",
       "      <td>-0.205505</td>\n",
       "      <td>-0.127356</td>\n",
       "      <td>...</td>\n",
       "      <td>-0.081752</td>\n",
       "      <td>-0.140551</td>\n",
       "      <td>-0.184672</td>\n",
       "      <td>-0.047193</td>\n",
       "      <td>-0.085658</td>\n",
       "      <td>-0.15927</td>\n",
       "      <td>-0.177785</td>\n",
       "      <td>-0.150662</td>\n",
       "      <td>-0.173675</td>\n",
       "      <td>-0.155311</td>\n",
       "    </tr>\n",
       "    <tr>\n",
       "      <th>3</th>\n",
       "      <td>-0.329097</td>\n",
       "      <td>-0.309228</td>\n",
       "      <td>1.962586</td>\n",
       "      <td>6.437134</td>\n",
       "      <td>-0.234633</td>\n",
       "      <td>-0.134341</td>\n",
       "      <td>-0.169572</td>\n",
       "      <td>-0.142779</td>\n",
       "      <td>-0.205505</td>\n",
       "      <td>-0.127356</td>\n",
       "      <td>...</td>\n",
       "      <td>-0.081752</td>\n",
       "      <td>-0.140551</td>\n",
       "      <td>-0.184672</td>\n",
       "      <td>-0.047193</td>\n",
       "      <td>-0.085658</td>\n",
       "      <td>-0.15927</td>\n",
       "      <td>-0.177785</td>\n",
       "      <td>-0.150662</td>\n",
       "      <td>-0.173675</td>\n",
       "      <td>-0.155311</td>\n",
       "    </tr>\n",
       "    <tr>\n",
       "      <th>4</th>\n",
       "      <td>-0.329097</td>\n",
       "      <td>-0.309228</td>\n",
       "      <td>-0.145043</td>\n",
       "      <td>-0.245414</td>\n",
       "      <td>-0.234633</td>\n",
       "      <td>-0.134341</td>\n",
       "      <td>-0.169572</td>\n",
       "      <td>-0.142779</td>\n",
       "      <td>-0.205505</td>\n",
       "      <td>-0.127356</td>\n",
       "      <td>...</td>\n",
       "      <td>-0.081752</td>\n",
       "      <td>-0.140551</td>\n",
       "      <td>-0.184672</td>\n",
       "      <td>-0.047193</td>\n",
       "      <td>-0.085658</td>\n",
       "      <td>-0.15927</td>\n",
       "      <td>-0.177785</td>\n",
       "      <td>-0.150662</td>\n",
       "      <td>-0.173675</td>\n",
       "      <td>-0.155311</td>\n",
       "    </tr>\n",
       "  </tbody>\n",
       "</table>\n",
       "<p>5 rows × 158 columns</p>\n",
       "</div>"
      ],
      "text/plain": [
       "    DPC1_AG   DPC1_AK   DPC1_AM   DPC1_AN   DPC1_AR   DPC1_AW   DPC1_CC  \\\n",
       "0 -0.329097 -0.309228 -0.145043 -0.245414 -0.234633 -0.134341 -0.169572   \n",
       "1 -0.329097 -0.309228 -0.145043 -0.245414 -0.234633 -0.134341 -0.169572   \n",
       "2 -0.329097 -0.309228 -0.145043 -0.245414 -0.234633 -0.134341 -0.169572   \n",
       "3 -0.329097 -0.309228  1.962586  6.437134 -0.234633 -0.134341 -0.169572   \n",
       "4 -0.329097 -0.309228 -0.145043 -0.245414 -0.234633 -0.134341 -0.169572   \n",
       "\n",
       "    DPC1_CD   DPC1_CI   DPC1_CN  ...   DPC1_WY   DPC1_YF   DPC1_YG   DPC1_YH  \\\n",
       "0 -0.142779 -0.205505 -0.127356  ... -0.081752 -0.140551 -0.184672 -0.047193   \n",
       "1 -0.142779 -0.205505 -0.127356  ... -0.081752  5.813713 -0.184672 -0.047193   \n",
       "2 -0.142779 -0.205505 -0.127356  ... -0.081752 -0.140551 -0.184672 -0.047193   \n",
       "3 -0.142779 -0.205505 -0.127356  ... -0.081752 -0.140551 -0.184672 -0.047193   \n",
       "4 -0.142779 -0.205505 -0.127356  ... -0.081752 -0.140551 -0.184672 -0.047193   \n",
       "\n",
       "    DPC1_YM  DPC1_YN   DPC1_YP   DPC1_YQ   DPC1_YS   DPC1_YV  \n",
       "0 -0.085658 -0.15927 -0.177785 -0.150662 -0.173675 -0.155311  \n",
       "1 -0.085658 -0.15927 -0.177785 -0.150662 -0.173675 -0.155311  \n",
       "2 -0.085658 -0.15927 -0.177785 -0.150662 -0.173675 -0.155311  \n",
       "3 -0.085658 -0.15927 -0.177785 -0.150662 -0.173675 -0.155311  \n",
       "4 -0.085658 -0.15927 -0.177785 -0.150662 -0.173675 -0.155311  \n",
       "\n",
       "[5 rows x 158 columns]"
      ]
     },
     "execution_count": 20,
     "metadata": {},
     "output_type": "execute_result"
    }
   ],
   "source": [
    "vt=VarianceThreshold(1.0)\n",
    "fs=vt.fit_transform(c2)\n",
    "fs=c2.columns[vt.get_support(indices=True)]\n",
    "c3=c2[fs]\n",
    "c3.head()\n"
   ]
  },
  {
   "cell_type": "code",
   "execution_count": 21,
   "id": "bda60e68",
   "metadata": {},
   "outputs": [
    {
     "name": "stderr",
     "output_type": "stream",
     "text": [
      "c:\\users\\mailt\\appdata\\local\\programs\\python\\python37\\lib\\site-packages\\pandas\\core\\generic.py:6392: SettingWithCopyWarning: \n",
      "A value is trying to be set on a copy of a slice from a DataFrame\n",
      "\n",
      "See the caveats in the documentation: https://pandas.pydata.org/pandas-docs/stable/user_guide/indexing.html#returning-a-view-versus-a-copy\n",
      "  return self._update_inplace(result)\n"
     ]
    },
    {
     "data": {
      "text/html": [
       "<div>\n",
       "<style scoped>\n",
       "    .dataframe tbody tr th:only-of-type {\n",
       "        vertical-align: middle;\n",
       "    }\n",
       "\n",
       "    .dataframe tbody tr th {\n",
       "        vertical-align: top;\n",
       "    }\n",
       "\n",
       "    .dataframe thead th {\n",
       "        text-align: right;\n",
       "    }\n",
       "</style>\n",
       "<table border=\"1\" class=\"dataframe\">\n",
       "  <thead>\n",
       "    <tr style=\"text-align: right;\">\n",
       "      <th></th>\n",
       "      <th>DPC1_AG</th>\n",
       "      <th>DPC1_AK</th>\n",
       "      <th>DPC1_AM</th>\n",
       "      <th>DPC1_AN</th>\n",
       "      <th>DPC1_AR</th>\n",
       "      <th>DPC1_AW</th>\n",
       "      <th>DPC1_CC</th>\n",
       "      <th>DPC1_CD</th>\n",
       "      <th>DPC1_CI</th>\n",
       "      <th>DPC1_CN</th>\n",
       "      <th>...</th>\n",
       "      <th>DPC1_WY</th>\n",
       "      <th>DPC1_YF</th>\n",
       "      <th>DPC1_YG</th>\n",
       "      <th>DPC1_YH</th>\n",
       "      <th>DPC1_YM</th>\n",
       "      <th>DPC1_YN</th>\n",
       "      <th>DPC1_YP</th>\n",
       "      <th>DPC1_YQ</th>\n",
       "      <th>DPC1_YS</th>\n",
       "      <th>DPC1_YV</th>\n",
       "    </tr>\n",
       "  </thead>\n",
       "  <tbody>\n",
       "    <tr>\n",
       "      <th>0</th>\n",
       "      <td>-0.329097</td>\n",
       "      <td>-0.309228</td>\n",
       "      <td>-0.145043</td>\n",
       "      <td>-0.245414</td>\n",
       "      <td>-0.234633</td>\n",
       "      <td>-0.134341</td>\n",
       "      <td>-0.169572</td>\n",
       "      <td>-0.142779</td>\n",
       "      <td>-0.205505</td>\n",
       "      <td>-0.127356</td>\n",
       "      <td>...</td>\n",
       "      <td>-0.081752</td>\n",
       "      <td>-0.140551</td>\n",
       "      <td>-0.184672</td>\n",
       "      <td>-0.047193</td>\n",
       "      <td>-0.085658</td>\n",
       "      <td>-0.15927</td>\n",
       "      <td>-0.177785</td>\n",
       "      <td>-0.150662</td>\n",
       "      <td>-0.173675</td>\n",
       "      <td>-0.155311</td>\n",
       "    </tr>\n",
       "    <tr>\n",
       "      <th>1</th>\n",
       "      <td>-0.329097</td>\n",
       "      <td>-0.309228</td>\n",
       "      <td>-0.145043</td>\n",
       "      <td>-0.245414</td>\n",
       "      <td>-0.234633</td>\n",
       "      <td>-0.134341</td>\n",
       "      <td>-0.169572</td>\n",
       "      <td>-0.142779</td>\n",
       "      <td>-0.205505</td>\n",
       "      <td>-0.127356</td>\n",
       "      <td>...</td>\n",
       "      <td>-0.081752</td>\n",
       "      <td>5.813713</td>\n",
       "      <td>-0.184672</td>\n",
       "      <td>-0.047193</td>\n",
       "      <td>-0.085658</td>\n",
       "      <td>-0.15927</td>\n",
       "      <td>-0.177785</td>\n",
       "      <td>-0.150662</td>\n",
       "      <td>-0.173675</td>\n",
       "      <td>-0.155311</td>\n",
       "    </tr>\n",
       "    <tr>\n",
       "      <th>2</th>\n",
       "      <td>-0.329097</td>\n",
       "      <td>-0.309228</td>\n",
       "      <td>-0.145043</td>\n",
       "      <td>-0.245414</td>\n",
       "      <td>-0.234633</td>\n",
       "      <td>-0.134341</td>\n",
       "      <td>-0.169572</td>\n",
       "      <td>-0.142779</td>\n",
       "      <td>-0.205505</td>\n",
       "      <td>-0.127356</td>\n",
       "      <td>...</td>\n",
       "      <td>-0.081752</td>\n",
       "      <td>-0.140551</td>\n",
       "      <td>-0.184672</td>\n",
       "      <td>-0.047193</td>\n",
       "      <td>-0.085658</td>\n",
       "      <td>-0.15927</td>\n",
       "      <td>-0.177785</td>\n",
       "      <td>-0.150662</td>\n",
       "      <td>-0.173675</td>\n",
       "      <td>-0.155311</td>\n",
       "    </tr>\n",
       "    <tr>\n",
       "      <th>3</th>\n",
       "      <td>-0.329097</td>\n",
       "      <td>-0.309228</td>\n",
       "      <td>1.962586</td>\n",
       "      <td>6.437134</td>\n",
       "      <td>-0.234633</td>\n",
       "      <td>-0.134341</td>\n",
       "      <td>-0.169572</td>\n",
       "      <td>-0.142779</td>\n",
       "      <td>-0.205505</td>\n",
       "      <td>-0.127356</td>\n",
       "      <td>...</td>\n",
       "      <td>-0.081752</td>\n",
       "      <td>-0.140551</td>\n",
       "      <td>-0.184672</td>\n",
       "      <td>-0.047193</td>\n",
       "      <td>-0.085658</td>\n",
       "      <td>-0.15927</td>\n",
       "      <td>-0.177785</td>\n",
       "      <td>-0.150662</td>\n",
       "      <td>-0.173675</td>\n",
       "      <td>-0.155311</td>\n",
       "    </tr>\n",
       "    <tr>\n",
       "      <th>4</th>\n",
       "      <td>-0.329097</td>\n",
       "      <td>-0.309228</td>\n",
       "      <td>-0.145043</td>\n",
       "      <td>-0.245414</td>\n",
       "      <td>-0.234633</td>\n",
       "      <td>-0.134341</td>\n",
       "      <td>-0.169572</td>\n",
       "      <td>-0.142779</td>\n",
       "      <td>-0.205505</td>\n",
       "      <td>-0.127356</td>\n",
       "      <td>...</td>\n",
       "      <td>-0.081752</td>\n",
       "      <td>-0.140551</td>\n",
       "      <td>-0.184672</td>\n",
       "      <td>-0.047193</td>\n",
       "      <td>-0.085658</td>\n",
       "      <td>-0.15927</td>\n",
       "      <td>-0.177785</td>\n",
       "      <td>-0.150662</td>\n",
       "      <td>-0.173675</td>\n",
       "      <td>-0.155311</td>\n",
       "    </tr>\n",
       "  </tbody>\n",
       "</table>\n",
       "<p>5 rows × 158 columns</p>\n",
       "</div>"
      ],
      "text/plain": [
       "    DPC1_AG   DPC1_AK   DPC1_AM   DPC1_AN   DPC1_AR   DPC1_AW   DPC1_CC  \\\n",
       "0 -0.329097 -0.309228 -0.145043 -0.245414 -0.234633 -0.134341 -0.169572   \n",
       "1 -0.329097 -0.309228 -0.145043 -0.245414 -0.234633 -0.134341 -0.169572   \n",
       "2 -0.329097 -0.309228 -0.145043 -0.245414 -0.234633 -0.134341 -0.169572   \n",
       "3 -0.329097 -0.309228  1.962586  6.437134 -0.234633 -0.134341 -0.169572   \n",
       "4 -0.329097 -0.309228 -0.145043 -0.245414 -0.234633 -0.134341 -0.169572   \n",
       "\n",
       "    DPC1_CD   DPC1_CI   DPC1_CN  ...   DPC1_WY   DPC1_YF   DPC1_YG   DPC1_YH  \\\n",
       "0 -0.142779 -0.205505 -0.127356  ... -0.081752 -0.140551 -0.184672 -0.047193   \n",
       "1 -0.142779 -0.205505 -0.127356  ... -0.081752  5.813713 -0.184672 -0.047193   \n",
       "2 -0.142779 -0.205505 -0.127356  ... -0.081752 -0.140551 -0.184672 -0.047193   \n",
       "3 -0.142779 -0.205505 -0.127356  ... -0.081752 -0.140551 -0.184672 -0.047193   \n",
       "4 -0.142779 -0.205505 -0.127356  ... -0.081752 -0.140551 -0.184672 -0.047193   \n",
       "\n",
       "    DPC1_YM  DPC1_YN   DPC1_YP   DPC1_YQ   DPC1_YS   DPC1_YV  \n",
       "0 -0.085658 -0.15927 -0.177785 -0.150662 -0.173675 -0.155311  \n",
       "1 -0.085658 -0.15927 -0.177785 -0.150662 -0.173675 -0.155311  \n",
       "2 -0.085658 -0.15927 -0.177785 -0.150662 -0.173675 -0.155311  \n",
       "3 -0.085658 -0.15927 -0.177785 -0.150662 -0.173675 -0.155311  \n",
       "4 -0.085658 -0.15927 -0.177785 -0.150662 -0.173675 -0.155311  \n",
       "\n",
       "[5 rows x 158 columns]"
      ]
     },
     "execution_count": 21,
     "metadata": {},
     "output_type": "execute_result"
    }
   ],
   "source": [
    "# Removing NA values and calculating the mean of dataframe and replacing NA with mean.\n",
    "m=round(c3.mean(),6)\n",
    "m\n",
    "c3.fillna(m,inplace=True)\n",
    "c3.head(5)"
   ]
  },
  {
   "cell_type": "code",
   "execution_count": 22,
   "id": "f7b76a07",
   "metadata": {},
   "outputs": [],
   "source": [
    "# Splitting the Dataset usinig train_test_split with training size = 70% and Testing size= 30%\n",
    "X_train, X_test, Y_train, Y_test = train_test_split(c3, Y1, test_size=0.30, random_state= 22) "
   ]
  },
  {
   "cell_type": "markdown",
   "id": "12644cc8",
   "metadata": {},
   "source": [
    "# Decision Tree Classifier"
   ]
  },
  {
   "cell_type": "code",
   "execution_count": 114,
   "id": "97917013",
   "metadata": {},
   "outputs": [],
   "source": [
    "class DecisionTreeClassifierModel:\n",
    "    def __init__(self):\n",
    "        self.Model=None\n",
    "        self.prediction_dt= None\n",
    "        self.predictt=None\n",
    "        self.accuracy= 0\n",
    "        self.f1score= 0\n",
    "        \n",
    "    def fit(self,X_train, Y_train):\n",
    "        self.Model= DecisionTreeClassifier(random_state=15)\n",
    "        self.Model= self.Model.fit(X_train,Y_train)\n",
    "        \n",
    "        return self.Model\n",
    "    \n",
    "    def predict_values(self, X_test):\n",
    "        self.prediction_dt= self.Model\n",
    "        self.prediction_dt = self.prediction_dt.predict(X_test)\n",
    "        arr=[]\n",
    "        for i in self.prediction_dt:\n",
    "            if i <0:\n",
    "                arr.append(0)\n",
    "            else:\n",
    "                arr.append(1)\n",
    "        \n",
    "        return arr\n",
    "    \n",
    "    def predict(self,X_test):\n",
    "        self.predictt= self.Model.predict(X_test)        \n",
    "        \n",
    "        return self.predictt \n",
    "    \n",
    "    def accuracy(self,Y_test):\n",
    "        arr1=[]\n",
    "        acc= accuracy_score(self.predictt,Y_test)\n",
    "        f1score= f1_score(self.predictt,Y_test)\n",
    "        arr1.append(acc)\n",
    "        arr1.append(f1score)\n",
    "        return arr1\n",
    "        "
   ]
  },
  {
   "cell_type": "code",
   "execution_count": 115,
   "id": "039eb999",
   "metadata": {},
   "outputs": [
    {
     "data": {
      "text/plain": [
       "DecisionTreeClassifier(random_state=15)"
      ]
     },
     "execution_count": 115,
     "metadata": {},
     "output_type": "execute_result"
    }
   ],
   "source": [
    "DTC= DecisionTreeClassifierModel()\n",
    "aa=DTC.fit(X_train, Y_train)\n",
    "aa"
   ]
  },
  {
   "cell_type": "code",
   "execution_count": 116,
   "id": "4b97f1d0",
   "metadata": {
    "scrolled": true
   },
   "outputs": [],
   "source": [
    "aa1= DTC.predict_values(X_test)\n",
    "aa1"
   ]
  },
  {
   "cell_type": "code",
   "execution_count": 120,
   "id": "2a419c58",
   "metadata": {},
   "outputs": [
    {
     "name": "stdout",
     "output_type": "stream",
     "text": [
      "Accuracy of Decision Tree:  0.7703703703703704\n",
      "f1_score of Decision Tree:  0.7559055118110236\n"
     ]
    }
   ],
   "source": [
    "predict= DTC.predict(X_test)\n",
    "acc1= (accuracy_score(predict,Y_test))\n",
    "print(\"Accuracy of Decision Tree: \",acc1)\n",
    "fs1= (f1_score(predict,Y_test))\n",
    "print(\"f1_score of Decision Tree: \",fs1)"
   ]
  },
  {
   "cell_type": "markdown",
   "id": "40329076",
   "metadata": {},
   "source": [
    "# Random Forest Classifier"
   ]
  },
  {
   "cell_type": "code",
   "execution_count": 131,
   "id": "50c89d23",
   "metadata": {},
   "outputs": [],
   "source": [
    "class RandomForestModel:\n",
    "    def __init__(self):\n",
    "        self.Model=None\n",
    "        self.prediction_dt= None\n",
    "        self.predictt=None\n",
    "        self.accuracy= 0\n",
    "        self.f1score= 0\n",
    "        \n",
    "    def fit(self,X_train, Y_train):\n",
    "        self.Model= RandomForestClassifier(random_state=18) #max_depth=2,max_features='auto',n_estimators=3,\n",
    "        self.Model= self.Model.fit(X_train,Y_train)\n",
    "        \n",
    "        return self.Model\n",
    "    \n",
    "    def Random(self,X_train, Y_train):\n",
    "        \n",
    "        return self.Model.score(X_train,Y_train)\n",
    "    \n",
    "    def predict_values(self, X_test):\n",
    "        self.prediction_dt= self.Model\n",
    "        self.prediction_dt = self.prediction_dt.predict(X_test)\n",
    "        arr=[]\n",
    "        for i in self.prediction_dt:\n",
    "            if i <0:\n",
    "                arr.append(0)\n",
    "            else:\n",
    "                arr.append(1)\n",
    "        \n",
    "        return arr\n",
    "    \n",
    "    \n",
    "    def probability(self,X_test):\n",
    "        return self.Model.predict_proba(X_test)[:,1]\n",
    "    \n",
    "    \n",
    "    def predict(self,X_test):\n",
    "        self.predictt= self.Model.predict(X_test)        \n",
    "        \n",
    "        return self.predictt \n",
    "    \n",
    "    def accuracy(self,Y_test):\n",
    "        arr1=[]\n",
    "        acc= accuracy_score(self.predictt,Y_test)\n",
    "        f1score= f1_score(self.predictt,Y_test)\n",
    "        arr1.append(acc)\n",
    "        arr1.append(f1score)\n",
    "        return arr1\n",
    "        "
   ]
  },
  {
   "cell_type": "code",
   "execution_count": 132,
   "id": "6e3f7d40",
   "metadata": {},
   "outputs": [],
   "source": [
    "RFM=RandomForestModel()"
   ]
  },
  {
   "cell_type": "code",
   "execution_count": 133,
   "id": "5a652981",
   "metadata": {},
   "outputs": [
    {
     "data": {
      "text/plain": [
       "RandomForestClassifier(random_state=18)"
      ]
     },
     "execution_count": 133,
     "metadata": {},
     "output_type": "execute_result"
    }
   ],
   "source": [
    "RF=RFM.fit(X_train, Y_train)\n",
    "RF"
   ]
  },
  {
   "cell_type": "code",
   "execution_count": 134,
   "id": "5a6bf32a",
   "metadata": {},
   "outputs": [
    {
     "data": {
      "text/plain": [
       "1.0"
      ]
     },
     "execution_count": 134,
     "metadata": {},
     "output_type": "execute_result"
    }
   ],
   "source": [
    "RFM.Random(X_train,Y_train)"
   ]
  },
  {
   "cell_type": "code",
   "execution_count": 136,
   "id": "c0380125",
   "metadata": {},
   "outputs": [
    {
     "data": {
      "text/plain": [
       "[1,\n",
       " 0,\n",
       " 1,\n",
       " 0,\n",
       " 0,\n",
       " 0,\n",
       " 1,\n",
       " 1,\n",
       " 1,\n",
       " 1,\n",
       " 1,\n",
       " 0,\n",
       " 0,\n",
       " 0,\n",
       " 0,\n",
       " 1,\n",
       " 0,\n",
       " 0,\n",
       " 0,\n",
       " 1,\n",
       " 0,\n",
       " 0,\n",
       " 1,\n",
       " 1,\n",
       " 1,\n",
       " 0,\n",
       " 1,\n",
       " 0,\n",
       " 0,\n",
       " 0,\n",
       " 0,\n",
       " 1,\n",
       " 0,\n",
       " 0,\n",
       " 0,\n",
       " 1,\n",
       " 0,\n",
       " 0,\n",
       " 1,\n",
       " 0,\n",
       " 1,\n",
       " 1,\n",
       " 1,\n",
       " 1,\n",
       " 0,\n",
       " 0,\n",
       " 1,\n",
       " 1,\n",
       " 1,\n",
       " 1,\n",
       " 0,\n",
       " 1,\n",
       " 1,\n",
       " 0,\n",
       " 0,\n",
       " 1,\n",
       " 1,\n",
       " 0,\n",
       " 0,\n",
       " 1,\n",
       " 1,\n",
       " 1,\n",
       " 1,\n",
       " 1,\n",
       " 1,\n",
       " 0,\n",
       " 1,\n",
       " 0,\n",
       " 1,\n",
       " 1,\n",
       " 0,\n",
       " 0,\n",
       " 1,\n",
       " 0,\n",
       " 1,\n",
       " 1,\n",
       " 1,\n",
       " 1,\n",
       " 1,\n",
       " 1,\n",
       " 0,\n",
       " 0,\n",
       " 0,\n",
       " 1,\n",
       " 0,\n",
       " 1,\n",
       " 0,\n",
       " 1,\n",
       " 1,\n",
       " 0,\n",
       " 0,\n",
       " 0,\n",
       " 0,\n",
       " 1,\n",
       " 0,\n",
       " 1,\n",
       " 0,\n",
       " 1,\n",
       " 1,\n",
       " 0,\n",
       " 1,\n",
       " 0,\n",
       " 1,\n",
       " 1,\n",
       " 0,\n",
       " 1,\n",
       " 0,\n",
       " 0,\n",
       " 1,\n",
       " 1,\n",
       " 0,\n",
       " 0,\n",
       " 0,\n",
       " 1,\n",
       " 1,\n",
       " 0,\n",
       " 0,\n",
       " 0,\n",
       " 0,\n",
       " 1,\n",
       " 0,\n",
       " 0,\n",
       " 1,\n",
       " 1,\n",
       " 1,\n",
       " 0,\n",
       " 0,\n",
       " 0,\n",
       " 0,\n",
       " 1,\n",
       " 1,\n",
       " 0,\n",
       " 1,\n",
       " 1,\n",
       " 1]"
      ]
     },
     "execution_count": 136,
     "metadata": {},
     "output_type": "execute_result"
    }
   ],
   "source": [
    "# Predicting value in form of 0 and 1.\n",
    "RFM.predict_values(X_test)"
   ]
  },
  {
   "cell_type": "code",
   "execution_count": 137,
   "id": "782c612e",
   "metadata": {},
   "outputs": [
    {
     "data": {
      "text/plain": [
       "array([0.99, 0.28, 0.92, 0.43, 0.36, 0.33, 0.99, 0.94, 0.56, 0.57, 0.89,\n",
       "       0.34, 0.45, 0.23, 0.23, 0.94, 0.44, 0.49, 0.1 , 0.74, 0.44, 0.46,\n",
       "       0.59, 0.86, 0.68, 0.18, 0.59, 0.13, 0.39, 0.17, 0.4 , 0.65, 0.11,\n",
       "       0.35, 0.26, 0.97, 0.3 , 0.39, 0.53, 0.36, 0.62, 0.6 , 0.88, 0.78,\n",
       "       0.1 , 0.24, 0.75, 0.53, 0.56, 0.57, 0.15, 0.68, 0.52, 0.49, 0.07,\n",
       "       0.93, 1.  , 0.13, 0.22, 0.82, 0.73, 0.88, 0.59, 0.96, 0.79, 0.5 ,\n",
       "       0.95, 0.15, 0.93, 0.55, 0.49, 0.4 , 0.65, 0.16, 0.53, 0.65, 0.93,\n",
       "       0.54, 0.52, 0.57, 0.23, 0.5 , 0.09, 0.6 , 0.5 , 0.66, 0.27, 0.52,\n",
       "       0.61, 0.15, 0.45, 0.27, 0.42, 0.98, 0.46, 0.78, 0.44, 0.79, 0.97,\n",
       "       0.5 , 0.92, 0.25, 0.72, 0.97, 0.17, 1.  , 0.39, 0.15, 0.94, 0.67,\n",
       "       0.29, 0.34, 0.44, 0.71, 0.7 , 0.24, 0.39, 0.42, 0.35, 0.85, 0.32,\n",
       "       0.27, 0.53, 0.94, 0.58, 0.28, 0.13, 0.13, 0.21, 0.59, 0.63, 0.39,\n",
       "       0.67, 0.96, 0.91])"
      ]
     },
     "execution_count": 137,
     "metadata": {},
     "output_type": "execute_result"
    }
   ],
   "source": [
    "#Predicting the Probability Values\n",
    "RFM.probability(X_test)"
   ]
  },
  {
   "cell_type": "code",
   "execution_count": 138,
   "id": "7adcdc80",
   "metadata": {},
   "outputs": [
    {
     "name": "stdout",
     "output_type": "stream",
     "text": [
      "Accuracy of Random Forest:  0.8074074074074075\n",
      "f1_score of Random Forest:  0.7559055118110236\n"
     ]
    }
   ],
   "source": [
    "# Calculating the accuracy svcore of our Model.\n",
    "predict1= RFM.predict(X_test)\n",
    "accRF= (accuracy_score(predict1,Y_test))\n",
    "print(\"Accuracy of Random Forest: \",accRF)\n",
    "\n",
    "# Calculating the f1 Score of Our Random Forest Model.\n",
    "f1RF= (f1_score(predict,Y_test))\n",
    "print(\"f1_score of Random Forest: \",f1RF)"
   ]
  },
  {
   "cell_type": "code",
   "execution_count": 31,
   "id": "4c927c9b",
   "metadata": {},
   "outputs": [
    {
     "name": "stdout",
     "output_type": "stream",
     "text": [
      "confusion matrix\n",
      "[[58 18]\n",
      " [ 8 51]]\n"
     ]
    },
    {
     "data": {
      "image/png": "[encoded data removed]",
      "text/plain": [
       "<Figure size 576x360 with 2 Axes>"
      ]
     },
     "metadata": {
      "needs_background": "light"
     },
     "output_type": "display_data"
    }
   ],
   "source": [
    "# Plotting a Confusion Matrix of Our result.\n",
    "\n",
    "print('Confusion matrix')\n",
    "print(confusion_matrix(Y_test, prediction_RF))\n",
    "    #confusion matrix\n",
    "f, ax = plt.subplots(figsize=(8,5))\n",
    "sns.heatmap(confusion_matrix(Y_test, prediction_RF), annot=True, fmt=\".0f\", ax=ax)\n",
    "plt.xlabel(\"y_pred\")\n",
    "plt.ylabel(\"y_true\")\n",
    "plt.show()"
   ]
  },
  {
   "cell_type": "code",
   "execution_count": 32,
   "id": "40c25387",
   "metadata": {},
   "outputs": [],
   "source": [
    "# calculating the fpr and tpr values.\n",
    "y_pred_keras = Y_test_pred_proba.ravel()\n",
    "y_test_kears= Y_test.ravel()\n",
    "fpr_keras, tpr_keras, thresholds_keras = roc_curve(y_test_kears, y_pred_keras)"
   ]
  },
  {
   "cell_type": "code",
   "execution_count": 33,
   "id": "faf3c079",
   "metadata": {},
   "outputs": [
    {
     "name": "stdout",
     "output_type": "stream",
     "text": [
      "0.9025423728813559\n"
     ]
    }
   ],
   "source": [
    "# Calculating the auc score of our RF Model.\n",
    "auc_keras = auc(fpr_keras, tpr_keras)\n",
    "print(auc_keras)"
   ]
  },
  {
   "cell_type": "code",
   "execution_count": 34,
   "id": "dca52e08",
   "metadata": {},
   "outputs": [
    {
     "data": {
      "image/png": "[encoded data removed]",
      "text/plain": [
       "<Figure size 432x288 with 1 Axes>"
      ]
     },
     "metadata": {
      "needs_background": "light"
     },
     "output_type": "display_data"
    }
   ],
   "source": [
    "# Plotting the ROC curve\n",
    "\n",
    "plt.figure(1)\n",
    "plt.plot([0, 1], [0, 1], 'k--')\n",
    "plt.plot(fpr_keras, tpr_keras, label='Keras (area = {:.3f})'.format(auc_keras))\n",
    "plt.xlabel('False positive rate')\n",
    "plt.ylabel('True positive rate')\n",
    "plt.title('ROC curve')\n",
    "plt.legend(loc='best')\n",
    "plt.show()"
   ]
  },
  {
   "cell_type": "code",
   "execution_count": 140,
   "id": "1e216a63",
   "metadata": {},
   "outputs": [],
   "source": [
    "class Conf_metrix:\n",
    "    # Creating a function to report confusion metrics\n",
    "    def confusion_metrics (self,conf_matrix):\n",
    "    # save confusion matrix and slice into four pieces\n",
    "        TP = conf_matrix[1][1]\n",
    "        TN = conf_matrix[0][0]\n",
    "        FP = conf_matrix[0][1]\n",
    "        FN = conf_matrix[1][0]\n",
    "        print('True Positives:', TP)\n",
    "        print('True Negatives:', TN)\n",
    "        print('False Positives:', FP)\n",
    "        print('False Negatives:', FN)\n",
    "    \n",
    "    # calculate accuracy\n",
    "        conf_accuracy = (float (TP+TN) / float(TP + TN + FP + FN))\n",
    "    \n",
    "    # calculate mis-classification\n",
    "        conf_misclassification = 1- conf_accuracy\n",
    "    \n",
    "    # calculate the sensitivity\n",
    "        conf_sensitivity = (TP / float(TP + FN))\n",
    "    # calculate the specificity\n",
    "        conf_specificity = (TN / float(TN + FP))\n",
    "    \n",
    "        # calculate precision\n",
    "        conf_precision = (TN / float(TN + FP))\n",
    "        # calculate f_1 score\n",
    "        conf_f1 = 2 * ((conf_precision * conf_sensitivity) / (conf_precision + conf_sensitivity))\n",
    "        print('-'*50)\n",
    "        print(f'Accuracy: {round(conf_accuracy,2)}') \n",
    "        print(f'Mis-Classification: {round(conf_misclassification,2)}') \n",
    "        print(f'Sensitivity: {round(conf_sensitivity,2)}') \n",
    "        print(f'Specificity: {round(conf_specificity,2)}') \n",
    "        print(f'Precision: {round(conf_precision,2)}')\n",
    "        print(f'f_1 Score: {round(conf_f1,2)}')"
   ]
  },
  {
   "cell_type": "code",
   "execution_count": 141,
   "id": "042f16b4",
   "metadata": {},
   "outputs": [
    {
     "name": "stdout",
     "output_type": "stream",
     "text": [
      "True Positives: 51\n",
      "True Negatives: 58\n",
      "False Positives: 18\n",
      "False Negatives: 8\n",
      "--------------------------------------------------\n",
      "Accuracy: 0.81\n",
      "Mis-Classification: 0.19\n",
      "Sensitivity: 0.86\n",
      "Specificity: 0.76\n",
      "Precision: 0.76\n",
      "f_1 Score: 0.81\n"
     ]
    }
   ],
   "source": [
    "mat= Conf_metrix()\n",
    "res=confusion_matrix(Y_test, prediction_RF)\n",
    "mat.confusion_metrics(res)"
   ]
  },
  {
   "cell_type": "markdown",
   "id": "9236a125",
   "metadata": {},
   "source": [
    "# Saving the values to the database"
   ]
  },
  {
   "cell_type": "code",
   "execution_count": 37,
   "id": "e998cf15",
   "metadata": {},
   "outputs": [
    {
     "name": "stdout",
     "output_type": "stream",
     "text": [
      "Query was successful\n"
     ]
    },
    {
     "data": {
      "text/plain": [
       "[]"
      ]
     },
     "execution_count": 37,
     "metadata": {},
     "output_type": "execute_result"
    }
   ],
   "source": [
    "create_table= \"\"\"\n",
    "create table Results(\n",
    "Peptide_sequence varchar(200),\n",
    "label int);\n",
    "\"\"\"\n",
    "#connect to the database\n",
    "DBM.execute_query(db_connection,create_table)"
   ]
  },
  {
   "cell_type": "code",
   "execution_count": 38,
   "id": "e8babb9a",
   "metadata": {},
   "outputs": [],
   "source": [
    "# processing the final Data before loading in the database.\n",
    "preprocessor = Data_Preprocessor()\n",
    "aY = [1 if i == 1 else 0 for i in prediction_RF]\n",
    "testindex=X_test.index\n",
    "\n",
    "lst3=[]\n",
    "for i in range(len(aY)):\n",
    "    lst2=[]\n",
    "    a=()\n",
    "    b= testindex[i]\n",
    "    lst2.append(df.Peptide_sequence[b])\n",
    "    lst2.append(aY[i])\n",
    "    a= tuple(lst2)\n",
    "    lst3.append(a)"
   ]
  },
  {
   "cell_type": "markdown",
   "id": "24c6258a",
   "metadata": {},
   "source": [
    "### "
   ]
  },
  {
   "cell_type": "code",
   "execution_count": 40,
   "id": "3b99a7f7",
   "metadata": {},
   "outputs": [],
   "source": [
    "class DB_Load:\n",
    "    def __init__(self):\n",
    "        pass\n",
    "    \n",
    "    def load_data1(self, connection, data):\n",
    "        cur= connection.cursor()\n",
    "        s= \"INSERT INTO results (Peptide_sequence, label) VALUES (%s,%s)\"\n",
    "        cur.executemany(s, data)\n",
    "        connection.commit()\n",
    "        print(\"Data Loaded Successfully\")"
   ]
  },
  {
   "cell_type": "code",
   "execution_count": 41,
   "id": "33d6bbb5",
   "metadata": {},
   "outputs": [
    {
     "name": "stdout",
     "output_type": "stream",
     "text": [
      "Data Loaded Successfully\n"
     ]
    }
   ],
   "source": [
    "load= DB_Load()\n",
    "load.load_data1(db_connection,lst3)"
   ]
  },
  {
   "cell_type": "code",
   "execution_count": null,
   "id": "ab892783",
   "metadata": {},
   "outputs": [],
   "source": []
  }
 ],
 "metadata": {
  "kernelspec": {
   "display_name": "Python 3 (ipykernel)",
   "language": "python",
   "name": "python3"
  },
  "language_info": {
   "codemirror_mode": {
    "name": "ipython",
    "version": 3
   },
   "file_extension": ".py",
   "mimetype": "text/x-python",
   "name": "python",
   "nbconvert_exporter": "python",
   "pygments_lexer": "ipython3",
   "version": "3.7.8rc1"
  }
 },
 "nbformat": 4,
 "nbformat_minor": 5
}
